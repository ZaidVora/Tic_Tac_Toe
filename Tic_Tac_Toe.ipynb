{
 "cells": [
  {
   "cell_type": "code",
   "execution_count": 28,
   "id": "d7ba99d2-8933-4d55-9dba-8d28f3ddfd4a",
   "metadata": {},
   "outputs": [],
   "source": [
    "from IPython.display import clear_output\n",
    "\n",
    "def display_board(board):\n",
    "    clear_output()\n",
    "\n",
    "    print('  |  | ')\n",
    "    print(' '+board[7] + '|' + board[8]+ ' |' + board[9])\n",
    "    print('  |  | ')\n",
    "    print('----------')\n",
    "    print('  |  | ')\n",
    "    print(' '+board[4] + '|' + board[5]+ ' |' + board[6])\n",
    "    print('  |  | ')\n",
    "    print('----------')\n",
    "    print('  |  | ')\n",
    "    print(' '+board[1] + '|' + board[2]+ ' |' + board[3])\n",
    "    print('  |  | ')"
   ]
  },
  {
   "cell_type": "code",
   "execution_count": 29,
   "id": "0044aaab-721c-427e-a680-1ab880cf132e",
   "metadata": {},
   "outputs": [
    {
     "name": "stdout",
     "output_type": "stream",
     "text": [
      "  |  | \n",
      " X|O |X\n",
      "  |  | \n",
      "----------\n",
      "  |  | \n",
      " O|X |O\n",
      "  |  | \n",
      "----------\n",
      "  |  | \n",
      " X|O |X\n",
      "  |  | \n"
     ]
    }
   ],
   "source": [
    "test_board = ['#','X','O','X','O','X','O','X','O','X']          # ('#') is for array = 0\n",
    "display_board(test_board)"
   ]
  },
  {
   "cell_type": "code",
   "execution_count": 30,
   "id": "b1b0f624-3b9b-45c7-9c7e-773984f3eb9f",
   "metadata": {},
   "outputs": [],
   "source": [
    "def player_input():\n",
    "\n",
    "    '''\n",
    "    OUTPUT = (Player 1 marker, Player 2 marker)\n",
    "    '''\n",
    "\n",
    "    \n",
    "    marker = ''\n",
    "    while not(marker == 'X' or marker == 'O'):\n",
    "        marker = input('Do you want to be X or O? ').upper()\n",
    "\n",
    "    if marker == 'X':\n",
    "        return ('X', 'O')\n",
    "    else:\n",
    "        return ('O', 'X')"
   ]
  },
  {
   "cell_type": "code",
   "execution_count": 32,
   "id": "1d534462-c020-475d-98c9-99fc64c2307c",
   "metadata": {},
   "outputs": [
    {
     "name": "stdin",
     "output_type": "stream",
     "text": [
      "Do you want to be X or O?  x\n"
     ]
    }
   ],
   "source": [
    "player1_marker, player2_marker =  player_input()"
   ]
  },
  {
   "cell_type": "code",
   "execution_count": 27,
   "id": "0670f8f5-2982-44d6-922c-0db544e86e38",
   "metadata": {},
   "outputs": [
    {
     "data": {
      "text/plain": [
       "'X'"
      ]
     },
     "execution_count": 27,
     "metadata": {},
     "output_type": "execute_result"
    }
   ],
   "source": [
    "player1_marker"
   ]
  },
  {
   "cell_type": "code",
   "execution_count": 33,
   "id": "789061c6-2ff4-408f-a212-1008bacd4745",
   "metadata": {},
   "outputs": [],
   "source": [
    "def place_marker(board,marker,position):\n",
    "    board[position] = marker"
   ]
  },
  {
   "cell_type": "code",
   "execution_count": 34,
   "id": "2154b1ee-59db-4f26-b2ec-f308633b91d2",
   "metadata": {},
   "outputs": [
    {
     "name": "stdout",
     "output_type": "stream",
     "text": [
      "  |  | \n",
      " X|$ |X\n",
      "  |  | \n",
      "----------\n",
      "  |  | \n",
      " O|X |O\n",
      "  |  | \n",
      "----------\n",
      "  |  | \n",
      " X|O |X\n",
      "  |  | \n"
     ]
    }
   ],
   "source": [
    "place_marker(test_board,'$',8)\n",
    "display_board(test_board)"
   ]
  },
  {
   "cell_type": "code",
   "execution_count": 37,
   "id": "3cb9abcf-6543-4876-910a-34888e82b2ee",
   "metadata": {},
   "outputs": [],
   "source": [
    "def win_check(board,mark):\n",
    "\n",
    "    return((board[7] == mark and board[8] == mark and board[9] == mark) or  #acroos row\n",
    "           (board[4] == mark and board[5] == mark and board[6] == mark) or  #acroos row\n",
    "           (board[1] == mark and board[2] == mark and board[3] == mark) or  #acroos row\n",
    "           (board[7] == mark and board[4] == mark and board[1] == mark) or  #acroos column\n",
    "           (board[8] == mark and board[5] == mark and board[2] == mark) or  #acroos column\n",
    "          (board[9] == mark and board[6] == mark and board[3] == mark) or  #acroos column\n",
    "           (board[7] == mark and board[5] == mark and board[3] == mark) or #acroos diagonal\n",
    "           (board[9] == mark and board[5] == mark and board[1] == mark)    #across diagonal\n",
    "          )"
   ]
  },
  {
   "cell_type": "code",
   "execution_count": 39,
   "id": "89fde919-eb6c-4305-8624-f31a7b12eca5",
   "metadata": {},
   "outputs": [
    {
     "name": "stdout",
     "output_type": "stream",
     "text": [
      "  |  | \n",
      " X|$ |X\n",
      "  |  | \n",
      "----------\n",
      "  |  | \n",
      " O|X |O\n",
      "  |  | \n",
      "----------\n",
      "  |  | \n",
      " X|O |X\n",
      "  |  | \n"
     ]
    },
    {
     "data": {
      "text/plain": [
       "True"
      ]
     },
     "execution_count": 39,
     "metadata": {},
     "output_type": "execute_result"
    }
   ],
   "source": [
    "display_board(test_board)\n",
    "win_check(test_board, 'X')"
   ]
  },
  {
   "cell_type": "code",
   "execution_count": 40,
   "id": "b9becbf5-abd7-4fc2-a99b-25c11540a60d",
   "metadata": {},
   "outputs": [],
   "source": [
    "import random\n",
    "\n",
    "def choose_first():\n",
    "    flip = random.randint(0,1)\n",
    "\n",
    "    if flip == 0:\n",
    "        return 'Player1'\n",
    "    else:\n",
    "        return 'Player2'"
   ]
  },
  {
   "cell_type": "code",
   "execution_count": 42,
   "id": "98a5c1c5-7d3d-4a9f-93e7-3a762da822b7",
   "metadata": {},
   "outputs": [
    {
     "data": {
      "text/plain": [
       "'Player1'"
      ]
     },
     "execution_count": 42,
     "metadata": {},
     "output_type": "execute_result"
    }
   ],
   "source": [
    "choose_first()"
   ]
  },
  {
   "cell_type": "code",
   "execution_count": 44,
   "id": "25957039-fba8-40a5-9112-295ec978a4c1",
   "metadata": {},
   "outputs": [],
   "source": [
    "def space_check(board,position):\n",
    "    return board[position] == ' '"
   ]
  },
  {
   "cell_type": "code",
   "execution_count": 45,
   "id": "e96ea134-73d9-4a7f-b949-c489c2b2be6e",
   "metadata": {},
   "outputs": [],
   "source": [
    "def full_board_check(board):\n",
    "\n",
    "    for i in range(1,10):\n",
    "        if space_check(board,i):\n",
    "            return False\n",
    "    # Board is full is we return true\n",
    "    return True"
   ]
  },
  {
   "cell_type": "code",
   "execution_count": 46,
   "id": "f1cb607c-7714-4edb-a118-16929713b2f9",
   "metadata": {},
   "outputs": [],
   "source": [
    "def player_choice(board):\n",
    "    position = 0\n",
    "\n",
    "    while position not in [1,2,3,4,5,6,7,8,9] or not space_check(board,position):\n",
    "        position = int(input('Choose a position (1-9): '))\n",
    "\n",
    "    return position"
   ]
  },
  {
   "cell_type": "code",
   "execution_count": 47,
   "id": "0a0d3601-1e0a-4b5c-8e56-56f54132fa09",
   "metadata": {},
   "outputs": [],
   "source": [
    "def replay():\n",
    "\n",
    "    choice = input(\"Play again? Enter Yes or No \")\n",
    "\n",
    "    return choice == 'Yes'"
   ]
  },
  {
   "cell_type": "code",
   "execution_count": 48,
   "id": "63ce69e9-c157-4f4c-89b8-8f30324b4d50",
   "metadata": {},
   "outputs": [
    {
     "name": "stdout",
     "output_type": "stream",
     "text": [
      "  |  | \n",
      "  |  |O\n",
      "  |  | \n",
      "----------\n",
      "  |  | \n",
      " X|O |X\n",
      "  |  | \n",
      "----------\n",
      "  |  | \n",
      " O|X |O\n",
      "  |  | \n",
      "Player 2 has won!!\n"
     ]
    },
    {
     "name": "stdin",
     "output_type": "stream",
     "text": [
      "Play again? Enter Yes or No  n\n"
     ]
    }
   ],
   "source": [
    "# WHILE LOOP TO KEEP RUNNING THE GAME\n",
    "print(\"Welcome to Tic Tac Toe\")\n",
    "\n",
    "while True:\n",
    "\n",
    "    #Play the game\n",
    "\n",
    "    ## Set Everything up(Board, Whose First, Choose Markers X, O )\n",
    "    the_board = [' ']*10\n",
    "    player1_marker , player2_marker = player_input()\n",
    "\n",
    "    turn = choose_first()\n",
    "    print(turn + ' will go first ')\n",
    "\n",
    "    play_game = input('Ready to play? y or n? ')\n",
    "\n",
    "    if play_game == 'y':\n",
    "        game_on = True\n",
    "    else:\n",
    "        game_on = False\n",
    "\n",
    "    ## Game Play\n",
    "\n",
    "    while game_on:\n",
    "\n",
    "        if turn == 'PLayer 1':\n",
    "\n",
    "            # show the board\n",
    "            display_board(the_board)\n",
    "            # choose the position\n",
    "            position = player_choice(the_board)\n",
    "            # place the marker on the postion\n",
    "            place_marker(the_board,player1_marker,position)\n",
    "            # check if they won\n",
    "            if win_check(the_board,player1_marker):\n",
    "                display_board(the_board)\n",
    "                print('Player 1 has won!!')\n",
    "                game_on = False\n",
    "            else:\n",
    "                if full_board_check(the_board):\n",
    "                    display_board(the_board)\n",
    "                    print(\"Tie Game\")\n",
    "                    game_on = False\n",
    "                else:\n",
    "                    turn = 'PLayer 2'\n",
    "            \n",
    "        ### Player one Turn\n",
    "\n",
    "        else:\n",
    "            # show the board\n",
    "            display_board(the_board)\n",
    "            # choose the position\n",
    "            position = player_choice(the_board)\n",
    "            # place the marker on the postion\n",
    "            place_marker(the_board,player2_marker,position)\n",
    "            # check if they won\n",
    "            if win_check(the_board,player2_marker):\n",
    "                display_board(the_board)\n",
    "                print('Player 2 has won!!')\n",
    "                game_on = False\n",
    "            else:\n",
    "                if full_board_check(the_board):\n",
    "                    display_board(the_board)\n",
    "                    print(\"Tie Game\")\n",
    "                    game_on = False\n",
    "                else:\n",
    "                    turn = 'PLayer 1'\n",
    "          \n",
    "        ### Player two Turn\n",
    "    if not replay():\n",
    "        break\n",
    "    #Break out of the while loop on replay"
   ]
  },
  {
   "cell_type": "code",
   "execution_count": null,
   "id": "cde82dcf-aae1-4b10-80fb-035783da0ef6",
   "metadata": {},
   "outputs": [],
   "source": []
  }
 ],
 "metadata": {
  "kernelspec": {
   "display_name": "Python 3 (ipykernel)",
   "language": "python",
   "name": "python3"
  },
  "language_info": {
   "codemirror_mode": {
    "name": "ipython",
    "version": 3
   },
   "file_extension": ".py",
   "mimetype": "text/x-python",
   "name": "python",
   "nbconvert_exporter": "python",
   "pygments_lexer": "ipython3",
   "version": "3.12.3"
  }
 },
 "nbformat": 4,
 "nbformat_minor": 5
}
